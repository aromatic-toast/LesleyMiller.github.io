{
 "cells": [
  {
   "cell_type": "markdown",
   "metadata": {},
   "source": [
    "# CLT Illustrated\n",
    "\n",
    "Let's first load our required packages. "
   ]
  },
  {
   "cell_type": "markdown",
   "metadata": {},
   "source": [
    "## import packages "
   ]
  },
  {
   "cell_type": "code",
   "execution_count": 69,
   "metadata": {},
   "outputs": [],
   "source": [
    "from numpy.random import normal\n",
    "import numpy as np\n",
    "import random \n",
    "import pandas as pd\n",
    "import altair as alt"
   ]
  },
  {
   "cell_type": "code",
   "execution_count": 70,
   "metadata": {},
   "outputs": [
    {
     "data": {
      "text/plain": [
       "RendererRegistry.enable('default')"
      ]
     },
     "execution_count": 70,
     "metadata": {},
     "output_type": "execute_result"
    }
   ],
   "source": [
    "alt.renderers.enable('default') # doesn't work: html, notebook, mimetype, having nothing won't render on github"
   ]
  },
  {
   "cell_type": "code",
   "execution_count": 71,
   "metadata": {},
   "outputs": [
    {
     "data": {
      "text/plain": [
       "DataTransformerRegistry.enable('default')"
      ]
     },
     "execution_count": 71,
     "metadata": {},
     "output_type": "execute_result"
    }
   ],
   "source": [
    "alt.data_transformers.disable_max_rows()"
   ]
  },
  {
   "cell_type": "markdown",
   "metadata": {},
   "source": [
    "Let's also define a helpful function that we'll need for later. "
   ]
  },
  {
   "cell_type": "code",
   "execution_count": 72,
   "metadata": {},
   "outputs": [],
   "source": [
    "def get_sample_means(pop, n, size):\n",
    "    \"\"\"\n",
    "    Sample from pop, n times and produce a list of \n",
    "    sample means.\n",
    "    \n",
    "    Arguments\n",
    "    ---------\n",
    "    pop (Series): A pandas series with values to draw samples from. \n",
    "    n   (int)   : The number of times to draw samples from the population.\n",
    "    size (int)  : The number of observations to draw from a single sample. \n",
    "    \n",
    "    Returns \n",
    "    -------\n",
    "    list\n",
    "        A list of sample means. \n",
    "    \"\"\"\n",
    "    sample_means = []\n",
    "    for i in range(n):\n",
    "        # pull a sample from the population \n",
    "        sample = pop.sample(n=size)\n",
    "        \n",
    "        # compute the sample mean \n",
    "        sample_mean = np.mean(sample)\n",
    "        \n",
    "        # append the sample mean to the list of means \n",
    "        sample_means.append(sample_mean)\n",
    "        \n",
    "    return sample_means"
   ]
  },
  {
   "cell_type": "markdown",
   "metadata": {},
   "source": [
    "Going back to our measuring human height idea, let's create our own populuation of humans and define what the mean and standard deviation of the height will be. Let's define 3 things: \n",
    "\n",
    "**1)** That human height is normally distributed in the population \n",
    "\n",
    "**2)** The population has 1 million people. \n",
    "\n",
    "**3)** The average human height will be 1.6 meters \n",
    "\n",
    "**4)** The standard deviation of the height will be 0.6 meters \n",
    "\n",
    "With these assumptions in place, let's build our population of humans using code. \n"
   ]
  },
  {
   "cell_type": "code",
   "execution_count": 73,
   "metadata": {},
   "outputs": [
    {
     "data": {
      "text/html": [
       "<div>\n",
       "<style scoped>\n",
       "    .dataframe tbody tr th:only-of-type {\n",
       "        vertical-align: middle;\n",
       "    }\n",
       "\n",
       "    .dataframe tbody tr th {\n",
       "        vertical-align: top;\n",
       "    }\n",
       "\n",
       "    .dataframe thead th {\n",
       "        text-align: right;\n",
       "    }\n",
       "</style>\n",
       "<table border=\"1\" class=\"dataframe\">\n",
       "  <thead>\n",
       "    <tr style=\"text-align: right;\">\n",
       "      <th></th>\n",
       "      <th>heights</th>\n",
       "    </tr>\n",
       "  </thead>\n",
       "  <tbody>\n",
       "    <tr>\n",
       "      <th>0</th>\n",
       "      <td>1.760583</td>\n",
       "    </tr>\n",
       "    <tr>\n",
       "      <th>1</th>\n",
       "      <td>2.751395</td>\n",
       "    </tr>\n",
       "    <tr>\n",
       "      <th>2</th>\n",
       "      <td>1.721516</td>\n",
       "    </tr>\n",
       "    <tr>\n",
       "      <th>3</th>\n",
       "      <td>0.755301</td>\n",
       "    </tr>\n",
       "    <tr>\n",
       "      <th>4</th>\n",
       "      <td>1.816925</td>\n",
       "    </tr>\n",
       "  </tbody>\n",
       "</table>\n",
       "</div>"
      ],
      "text/plain": [
       "    heights\n",
       "0  1.760583\n",
       "1  2.751395\n",
       "2  1.721516\n",
       "3  0.755301\n",
       "4  1.816925"
      ]
     },
     "execution_count": 73,
     "metadata": {},
     "output_type": "execute_result"
    }
   ],
   "source": [
    "random.seed(1234)\n",
    "\n",
    "# define the population parameters \n",
    "pop_mean = 1.6\n",
    "pop_sd = 0.6\n",
    "#pop_num = 1_000_000\n",
    "pop_num = 100\n",
    "\n",
    "# generate the finite population \n",
    "pop = normal(loc=pop_mean, scale=pop_sd, size=pop_num)\n",
    "\n",
    "pop = pd.DataFrame(data=pop, columns=['heights'])\n",
    "pop.head()"
   ]
  },
  {
   "cell_type": "markdown",
   "metadata": {},
   "source": [
    "Okay now, we have a dataframe of our populuation of 1 million heights. Let's plot what this distribution looks like. "
   ]
  },
  {
   "cell_type": "code",
   "execution_count": 74,
   "metadata": {},
   "outputs": [
    {
     "data": {
      "text/html": [
       "\n",
       "<div id=\"altair-viz-6f1094411eae44ab9d4c893f57e3c261\"></div>\n",
       "<script type=\"text/javascript\">\n",
       "  (function(spec, embedOpt){\n",
       "    let outputDiv = document.currentScript.previousElementSibling;\n",
       "    if (outputDiv.id !== \"altair-viz-6f1094411eae44ab9d4c893f57e3c261\") {\n",
       "      outputDiv = document.getElementById(\"altair-viz-6f1094411eae44ab9d4c893f57e3c261\");\n",
       "    }\n",
       "    const paths = {\n",
       "      \"vega\": \"https://cdn.jsdelivr.net/npm//vega@5?noext\",\n",
       "      \"vega-lib\": \"https://cdn.jsdelivr.net/npm//vega-lib?noext\",\n",
       "      \"vega-lite\": \"https://cdn.jsdelivr.net/npm//vega-lite@4.8.1?noext\",\n",
       "      \"vega-embed\": \"https://cdn.jsdelivr.net/npm//vega-embed@6?noext\",\n",
       "    };\n",
       "\n",
       "    function loadScript(lib) {\n",
       "      return new Promise(function(resolve, reject) {\n",
       "        var s = document.createElement('script');\n",
       "        s.src = paths[lib];\n",
       "        s.async = true;\n",
       "        s.onload = () => resolve(paths[lib]);\n",
       "        s.onerror = () => reject(`Error loading script: ${paths[lib]}`);\n",
       "        document.getElementsByTagName(\"head\")[0].appendChild(s);\n",
       "      });\n",
       "    }\n",
       "\n",
       "    function showError(err) {\n",
       "      outputDiv.innerHTML = `<div class=\"error\" style=\"color:red;\">${err}</div>`;\n",
       "      throw err;\n",
       "    }\n",
       "\n",
       "    function displayChart(vegaEmbed) {\n",
       "      vegaEmbed(outputDiv, spec, embedOpt)\n",
       "        .catch(err => showError(`Javascript Error: ${err.message}<br>This usually means there's a typo in your chart specification. See the javascript console for the full traceback.`));\n",
       "    }\n",
       "\n",
       "    if(typeof define === \"function\" && define.amd) {\n",
       "      requirejs.config({paths});\n",
       "      require([\"vega-embed\"], displayChart, err => showError(`Error loading script: ${err.message}`));\n",
       "    } else if (typeof vegaEmbed === \"function\") {\n",
       "      displayChart(vegaEmbed);\n",
       "    } else {\n",
       "      loadScript(\"vega\")\n",
       "        .then(() => loadScript(\"vega-lite\"))\n",
       "        .then(() => loadScript(\"vega-embed\"))\n",
       "        .catch(showError)\n",
       "        .then(() => displayChart(vegaEmbed));\n",
       "    }\n",
       "  })({\"config\": {\"view\": {\"continuousWidth\": 400, \"continuousHeight\": 300}}, \"layer\": [{\"mark\": \"area\", \"encoding\": {\"x\": {\"type\": \"quantitative\", \"field\": \"Heights\"}, \"y\": {\"type\": \"quantitative\", \"field\": \"density\"}}, \"title\": \"Distribution of Height in the Population\", \"transform\": [{\"density\": \"heights\", \"as\": [\"Heights\", \"density\"]}]}, {\"mark\": {\"type\": \"rule\", \"color\": \"yellow\"}, \"encoding\": {\"x\": {\"type\": \"quantitative\", \"aggregate\": \"mean\", \"field\": \"heights\", \"title\": \"Heights\"}}}], \"data\": {\"name\": \"data-33217935de02e2c44b6c4ca3c8069136\"}, \"$schema\": \"https://vega.github.io/schema/vega-lite/v4.8.1.json\", \"datasets\": {\"data-33217935de02e2c44b6c4ca3c8069136\": [{\"heights\": 1.7605826844010326}, {\"heights\": 2.7513953751647047}, {\"heights\": 1.7215158194973594}, {\"heights\": 0.7553011905995469}, {\"heights\": 1.8169254006870108}, {\"heights\": 2.2460212581189496}, {\"heights\": 1.6274783584419372}, {\"heights\": 1.6957814742607775}, {\"heights\": 0.9249497334802624}, {\"heights\": 1.2529037926084705}, {\"heights\": 1.3598308509142027}, {\"heights\": 0.8442711035737352}, {\"heights\": 0.7981321282462892}, {\"heights\": 1.427414827996795}, {\"heights\": 1.866221805388393}, {\"heights\": 2.516393566890635}, {\"heights\": 2.331394025688885}, {\"heights\": 1.166658332140875}, {\"heights\": 1.171209924047514}, {\"heights\": 0.5924279441622824}, {\"heights\": 1.5311078233553599}, {\"heights\": 2.665558998675894}, {\"heights\": 2.165825714782494}, {\"heights\": 2.2478954838061203}, {\"heights\": 1.4393826655515318}, {\"heights\": 0.35460179470302355}, {\"heights\": 0.8430922457865546}, {\"heights\": 1.6819821037404161}, {\"heights\": 1.5941918149022156}, {\"heights\": 1.6969242582768849}, {\"heights\": 0.718736525965023}, {\"heights\": 0.9945824293496986}, {\"heights\": 2.78372479552248}, {\"heights\": 1.0379602421235297}, {\"heights\": 1.5550060417081766}, {\"heights\": 1.7290248869851106}, {\"heights\": 2.4887922220030574}, {\"heights\": 2.323144948221124}, {\"heights\": 2.1062149039601317}, {\"heights\": 0.7670205089330541}, {\"heights\": 2.7456522275430695}, {\"heights\": 1.7088967617215096}, {\"heights\": 2.0432381992036475}, {\"heights\": 2.045849313958555}, {\"heights\": 1.518004888423028}, {\"heights\": 2.343351511132536}, {\"heights\": 0.8058319083415241}, {\"heights\": 1.5179449441477504}, {\"heights\": 1.5549733158038372}, {\"heights\": 1.4015757562258064}, {\"heights\": 1.6415160390698178}, {\"heights\": 1.1601243430218562}, {\"heights\": 2.3283702693930697}, {\"heights\": 2.1664735601654974}, {\"heights\": 2.2651677833236765}, {\"heights\": 1.3353146496901003}, {\"heights\": 2.582918199798888}, {\"heights\": 1.4700589585273611}, {\"heights\": 1.5090717287856625}, {\"heights\": 1.7300839595678879}, {\"heights\": 1.5162125324608517}, {\"heights\": 1.1003114632616617}, {\"heights\": 0.34361898800187207}, {\"heights\": 1.0954725377329018}, {\"heights\": 1.3706997917641435}, {\"heights\": 1.9409381886171673}, {\"heights\": 1.8406459317496724}, {\"heights\": 0.9593705580678927}, {\"heights\": 0.801268441146399}, {\"heights\": 1.3868289103436942}, {\"heights\": 0.6991287858200759}, {\"heights\": 1.1897972155514978}, {\"heights\": 1.1533371429493735}, {\"heights\": 1.5634127899423536}, {\"heights\": 2.0221931481370135}, {\"heights\": 2.469732993139083}, {\"heights\": 2.2139675886845906}, {\"heights\": 1.3858048765664324}, {\"heights\": 1.6990937444447884}, {\"heights\": 2.2343919084754478}, {\"heights\": 0.5307324457190459}, {\"heights\": 0.9364041438295785}, {\"heights\": 0.7510771029178992}, {\"heights\": 1.1417092127234691}, {\"heights\": 1.1482268473741344}, {\"heights\": 0.9495350164779005}, {\"heights\": 1.1568450690256387}, {\"heights\": 0.3298624790088296}, {\"heights\": 1.8313370911492892}, {\"heights\": 0.3993965849940284}, {\"heights\": 0.9789371800913823}, {\"heights\": 3.072892315833678}, {\"heights\": 1.346455824058168}, {\"heights\": 0.7820119582242088}, {\"heights\": 1.558714089290226}, {\"heights\": 2.1258444909214025}, {\"heights\": 0.39907067137674024}, {\"heights\": 2.3236854734002335}, {\"heights\": 2.1383956569948075}, {\"heights\": 1.3981928433715445}]}}, {\"mode\": \"vega-lite\"});\n",
       "</script>"
      ],
      "text/plain": [
       "alt.LayerChart(...)"
      ]
     },
     "execution_count": 74,
     "metadata": {},
     "output_type": "execute_result"
    }
   ],
   "source": [
    "pop_vline = (alt.Chart(pop)\n",
    "             .mark_rule(color='yellow')\n",
    "             .encode(alt.X('mean(heights):Q', \n",
    "                           title='Heights')))\n",
    "\n",
    "plot = (alt.Chart(pop)\n",
    "        .transform_density(\n",
    "            'heights',\n",
    "            as_=['Heights', 'density'])\n",
    "        .mark_area()\n",
    "        .encode(\n",
    "            alt.X('Heights:Q'),\n",
    "            alt.Y('density:Q'))\n",
    "        .properties(title='Distribution of Height in the Population'))\n",
    "\n",
    "plot + pop_vline"
   ]
  },
  {
   "cell_type": "markdown",
   "metadata": {},
   "source": [
    "Okay looks good. Here's what our population looks like. The yellow line falls at the mean height in the population which you'll notice occurs exactly at height = 1.6. That's exactly what we defined in the code. "
   ]
  },
  {
   "cell_type": "code",
   "execution_count": null,
   "metadata": {},
   "outputs": [],
   "source": []
  }
 ],
 "metadata": {
  "_draft": {
   "nbviewer_url": "https://gist.github.com/ae54baf83816bc6afe725ea5d2cb81ab"
  },
  "gist": {
   "data": {
    "description": "_data/gist_notebooks/what_is_CLT_gist1.ipynb",
    "public": true
   },
   "id": "ae54baf83816bc6afe725ea5d2cb81ab"
  },
  "kernelspec": {
   "display_name": "Python 3",
   "language": "python",
   "name": "python3"
  },
  "language_info": {
   "codemirror_mode": {
    "name": "ipython",
    "version": 3
   },
   "file_extension": ".py",
   "mimetype": "text/x-python",
   "name": "python",
   "nbconvert_exporter": "python",
   "pygments_lexer": "ipython3",
   "version": "3.8.6"
  },
  "toc": {
   "base_numbering": 1,
   "nav_menu": {},
   "number_sections": true,
   "sideBar": true,
   "skip_h1_title": false,
   "title_cell": "Table of Contents",
   "title_sidebar": "Contents",
   "toc_cell": false,
   "toc_position": {},
   "toc_section_display": true,
   "toc_window_display": false
  }
 },
 "nbformat": 4,
 "nbformat_minor": 4
}
