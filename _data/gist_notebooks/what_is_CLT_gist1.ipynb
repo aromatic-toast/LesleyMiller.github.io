{
 "cells": [
  {
   "cell_type": "markdown",
   "metadata": {},
   "source": [
    "# CLT Illustrated\n",
    "\n",
    "Let's first load our required packages. "
   ]
  },
  {
   "cell_type": "markdown",
   "metadata": {},
   "source": [
    "## import packages "
   ]
  },
  {
   "cell_type": "code",
   "execution_count": 57,
   "metadata": {},
   "outputs": [],
   "source": [
    "from numpy.random import normal\n",
    "import numpy as np\n",
    "import random \n",
    "import pandas as pd\n",
    "import altair as alt"
   ]
  },
  {
   "cell_type": "code",
   "execution_count": 58,
   "metadata": {},
   "outputs": [
    {
     "data": {
      "text/plain": [
       "RendererRegistry.enable('html')"
      ]
     },
     "execution_count": 58,
     "metadata": {},
     "output_type": "execute_result"
    }
   ],
   "source": [
    "alt.renderers.enable('html')"
   ]
  },
  {
   "cell_type": "code",
   "execution_count": 59,
   "metadata": {},
   "outputs": [
    {
     "data": {
      "text/plain": [
       "DataTransformerRegistry.enable('default')"
      ]
     },
     "execution_count": 59,
     "metadata": {},
     "output_type": "execute_result"
    }
   ],
   "source": [
    "alt.data_transformers.disable_max_rows()"
   ]
  },
  {
   "cell_type": "markdown",
   "metadata": {},
   "source": [
    "Let's also define a helpful function that we'll need for later. "
   ]
  },
  {
   "cell_type": "code",
   "execution_count": 60,
   "metadata": {},
   "outputs": [],
   "source": [
    "def get_sample_means(pop, n, size):\n",
    "    \"\"\"\n",
    "    Sample from pop, n times and produce a list of \n",
    "    sample means.\n",
    "    \n",
    "    Arguments\n",
    "    ---------\n",
    "    pop (Series): A pandas series with values to draw samples from. \n",
    "    n   (int)   : The number of times to draw samples from the population.\n",
    "    size (int)  : The number of observations to draw from a single sample. \n",
    "    \n",
    "    Returns \n",
    "    -------\n",
    "    list\n",
    "        A list of sample means. \n",
    "    \"\"\"\n",
    "    sample_means = []\n",
    "    for i in range(n):\n",
    "        # pull a sample from the population \n",
    "        sample = pop.sample(n=size)\n",
    "        \n",
    "        # compute the sample mean \n",
    "        sample_mean = np.mean(sample)\n",
    "        \n",
    "        # append the sample mean to the list of means \n",
    "        sample_means.append(sample_mean)\n",
    "        \n",
    "    return sample_means"
   ]
  },
  {
   "cell_type": "markdown",
   "metadata": {},
   "source": [
    "Going back to our measuring human height idea, let's create our own populuation of humans and define what the mean and standard deviation of the height will be. Let's define 3 things: \n",
    "\n",
    "**1)** That human height is normally distributed in the population \n",
    "\n",
    "**2)** The population has 1 million people. \n",
    "\n",
    "**3)** The average human height will be 1.6 meters \n",
    "\n",
    "**4)** The standard deviation of the height will be 0.6 meters \n",
    "\n",
    "With these assumptions in place, let's build our population of humans using code. \n"
   ]
  },
  {
   "cell_type": "code",
   "execution_count": 61,
   "metadata": {},
   "outputs": [
    {
     "data": {
      "text/html": [
       "<div>\n",
       "<style scoped>\n",
       "    .dataframe tbody tr th:only-of-type {\n",
       "        vertical-align: middle;\n",
       "    }\n",
       "\n",
       "    .dataframe tbody tr th {\n",
       "        vertical-align: top;\n",
       "    }\n",
       "\n",
       "    .dataframe thead th {\n",
       "        text-align: right;\n",
       "    }\n",
       "</style>\n",
       "<table border=\"1\" class=\"dataframe\">\n",
       "  <thead>\n",
       "    <tr style=\"text-align: right;\">\n",
       "      <th></th>\n",
       "      <th>heights</th>\n",
       "    </tr>\n",
       "  </thead>\n",
       "  <tbody>\n",
       "    <tr>\n",
       "      <th>0</th>\n",
       "      <td>1.419078</td>\n",
       "    </tr>\n",
       "    <tr>\n",
       "      <th>1</th>\n",
       "      <td>0.921261</td>\n",
       "    </tr>\n",
       "    <tr>\n",
       "      <th>2</th>\n",
       "      <td>1.587393</td>\n",
       "    </tr>\n",
       "    <tr>\n",
       "      <th>3</th>\n",
       "      <td>1.586361</td>\n",
       "    </tr>\n",
       "    <tr>\n",
       "      <th>4</th>\n",
       "      <td>2.052075</td>\n",
       "    </tr>\n",
       "  </tbody>\n",
       "</table>\n",
       "</div>"
      ],
      "text/plain": [
       "    heights\n",
       "0  1.419078\n",
       "1  0.921261\n",
       "2  1.587393\n",
       "3  1.586361\n",
       "4  2.052075"
      ]
     },
     "execution_count": 61,
     "metadata": {},
     "output_type": "execute_result"
    }
   ],
   "source": [
    "random.seed(1234)\n",
    "\n",
    "# define the population parameters \n",
    "pop_mean = 1.6\n",
    "pop_sd = 0.6\n",
    "#pop_num = 1_000_000\n",
    "pop_num = 100\n",
    "\n",
    "# generate the finite population \n",
    "pop = normal(loc=pop_mean, scale=pop_sd, size=pop_num)\n",
    "\n",
    "pop = pd.DataFrame(data=pop, columns=['heights'])\n",
    "pop.head()"
   ]
  },
  {
   "cell_type": "markdown",
   "metadata": {},
   "source": [
    "Okay now, we have a dataframe of our populuation of 1 million heights. Let's plot what this distribution looks like. "
   ]
  },
  {
   "cell_type": "code",
   "execution_count": 62,
   "metadata": {},
   "outputs": [
    {
     "data": {
      "text/html": [
       "\n",
       "<div id=\"altair-viz-70624b5185d3473c8eaa29721bfbb497\"></div>\n",
       "<script type=\"text/javascript\">\n",
       "  (function(spec, embedOpt){\n",
       "    let outputDiv = document.currentScript.previousElementSibling;\n",
       "    if (outputDiv.id !== \"altair-viz-70624b5185d3473c8eaa29721bfbb497\") {\n",
       "      outputDiv = document.getElementById(\"altair-viz-70624b5185d3473c8eaa29721bfbb497\");\n",
       "    }\n",
       "    const paths = {\n",
       "      \"vega\": \"https://cdn.jsdelivr.net/npm//vega@5?noext\",\n",
       "      \"vega-lib\": \"https://cdn.jsdelivr.net/npm//vega-lib?noext\",\n",
       "      \"vega-lite\": \"https://cdn.jsdelivr.net/npm//vega-lite@4.8.1?noext\",\n",
       "      \"vega-embed\": \"https://cdn.jsdelivr.net/npm//vega-embed@6?noext\",\n",
       "    };\n",
       "\n",
       "    function loadScript(lib) {\n",
       "      return new Promise(function(resolve, reject) {\n",
       "        var s = document.createElement('script');\n",
       "        s.src = paths[lib];\n",
       "        s.async = true;\n",
       "        s.onload = () => resolve(paths[lib]);\n",
       "        s.onerror = () => reject(`Error loading script: ${paths[lib]}`);\n",
       "        document.getElementsByTagName(\"head\")[0].appendChild(s);\n",
       "      });\n",
       "    }\n",
       "\n",
       "    function showError(err) {\n",
       "      outputDiv.innerHTML = `<div class=\"error\" style=\"color:red;\">${err}</div>`;\n",
       "      throw err;\n",
       "    }\n",
       "\n",
       "    function displayChart(vegaEmbed) {\n",
       "      vegaEmbed(outputDiv, spec, embedOpt)\n",
       "        .catch(err => showError(`Javascript Error: ${err.message}<br>This usually means there's a typo in your chart specification. See the javascript console for the full traceback.`));\n",
       "    }\n",
       "\n",
       "    if(typeof define === \"function\" && define.amd) {\n",
       "      requirejs.config({paths});\n",
       "      require([\"vega-embed\"], displayChart, err => showError(`Error loading script: ${err.message}`));\n",
       "    } else if (typeof vegaEmbed === \"function\") {\n",
       "      displayChart(vegaEmbed);\n",
       "    } else {\n",
       "      loadScript(\"vega\")\n",
       "        .then(() => loadScript(\"vega-lite\"))\n",
       "        .then(() => loadScript(\"vega-embed\"))\n",
       "        .catch(showError)\n",
       "        .then(() => displayChart(vegaEmbed));\n",
       "    }\n",
       "  })({\"config\": {\"view\": {\"continuousWidth\": 400, \"continuousHeight\": 300}}, \"layer\": [{\"mark\": \"area\", \"encoding\": {\"x\": {\"type\": \"quantitative\", \"field\": \"Heights\"}, \"y\": {\"type\": \"quantitative\", \"field\": \"density\"}}, \"title\": \"Distribution of Height in the Population\", \"transform\": [{\"density\": \"heights\", \"as\": [\"Heights\", \"density\"]}]}, {\"mark\": {\"type\": \"rule\", \"color\": \"yellow\"}, \"encoding\": {\"x\": {\"type\": \"quantitative\", \"aggregate\": \"mean\", \"field\": \"heights\", \"title\": \"Heights\"}}}], \"data\": {\"name\": \"data-b28ea294e2a94a57e7f786197b6ec1a0\"}, \"$schema\": \"https://vega.github.io/schema/vega-lite/v4.8.1.json\", \"datasets\": {\"data-b28ea294e2a94a57e7f786197b6ec1a0\": [{\"heights\": 1.4190779498906239}, {\"heights\": 0.921261154887239}, {\"heights\": 1.5873925955457464}, {\"heights\": 1.5863614526294119}, {\"heights\": 2.0520752764585364}, {\"heights\": 1.9171822746568092}, {\"heights\": 1.57174751241922}, {\"heights\": 2.012770538871279}, {\"heights\": 1.6770753292972922}, {\"heights\": 1.6534793388701274}, {\"heights\": 0.9091855275917158}, {\"heights\": 3.0102375567884714}, {\"heights\": 1.536865461991648}, {\"heights\": 2.07382080742454}, {\"heights\": 0.9989370873593086}, {\"heights\": 2.3842451009393226}, {\"heights\": 1.317404856034012}, {\"heights\": 0.8734092806944438}, {\"heights\": 1.5045819228765687}, {\"heights\": 1.6371419791972157}, {\"heights\": 1.374968443163866}, {\"heights\": 1.2515142648859432}, {\"heights\": 1.5704443839286646}, {\"heights\": 0.4624761172602714}, {\"heights\": 1.1453474355316886}, {\"heights\": 2.0176143970351417}, {\"heights\": 1.442213185732879}, {\"heights\": 1.8287699305857361}, {\"heights\": 0.6631589315990032}, {\"heights\": 2.26405451865046}, {\"heights\": 1.1444273632007034}, {\"heights\": 1.369370018594017}, {\"heights\": 2.7618906926057947}, {\"heights\": 1.0123653380323985}, {\"heights\": 2.657358709039979}, {\"heights\": 1.3261573399255888}, {\"heights\": 1.6207918187555401}, {\"heights\": 1.2153331130098601}, {\"heights\": 2.1120628876611693}, {\"heights\": 2.496225503892578}, {\"heights\": 2.235445110683136}, {\"heights\": 2.4547999870948516}, {\"heights\": 1.7294408155768868}, {\"heights\": 0.7685901944854375}, {\"heights\": 0.883675591135301}, {\"heights\": 2.182990979042725}, {\"heights\": 1.640515203572748}, {\"heights\": 2.1706059810634395}, {\"heights\": 1.6970022848314747}, {\"heights\": 2.1767266449552243}, {\"heights\": 1.117689093752948}, {\"heights\": 0.35946340201719207}, {\"heights\": 1.8136075099363635}, {\"heights\": 1.7324922835265808}, {\"heights\": 1.8136393543900595}, {\"heights\": 1.290543725263571}, {\"heights\": 1.5589589489501372}, {\"heights\": 1.9949936222172333}, {\"heights\": 0.8397741462747256}, {\"heights\": 1.3430184984649103}, {\"heights\": 0.2446840255217455}, {\"heights\": 1.6595147662405774}, {\"heights\": 1.6596714941707806}, {\"heights\": 1.5227808431047902}, {\"heights\": 0.6010761042584611}, {\"heights\": 2.1612718908746413}, {\"heights\": 1.5281329239975263}, {\"heights\": 1.0704910353503791}, {\"heights\": 0.9737484228535002}, {\"heights\": 1.5672300876285743}, {\"heights\": 1.0291250712854287}, {\"heights\": 2.8631700795381363}, {\"heights\": 0.24212201005745482}, {\"heights\": 1.3454980617970855}, {\"heights\": 2.085719309748873}, {\"heights\": 1.0940840304612847}, {\"heights\": 0.8373318169595957}, {\"heights\": 0.6190798482631269}, {\"heights\": 1.1935904735376686}, {\"heights\": 1.4453191237347651}, {\"heights\": 1.3039887996088015}, {\"heights\": 0.9444117683148144}, {\"heights\": 1.2717847422142574}, {\"heights\": 1.036124737642774}, {\"heights\": 1.862188894132352}, {\"heights\": 1.6709589236805262}, {\"heights\": 2.054972448082023}, {\"heights\": 2.2336721653870417}, {\"heights\": 2.1165944222301185}, {\"heights\": 0.739814646821111}, {\"heights\": 2.49518542807262}, {\"heights\": 0.7757501560538053}, {\"heights\": 2.8157432164841367}, {\"heights\": 2.3571903798420375}, {\"heights\": 1.9495884105244266}, {\"heights\": 1.7475707703666246}, {\"heights\": 0.9692208475379294}, {\"heights\": 1.278060382697189}, {\"heights\": 1.9442232029504745}, {\"heights\": 1.50503604872116}]}}, {\"mode\": \"vega-lite\"});\n",
       "</script>"
      ],
      "text/plain": [
       "alt.LayerChart(...)"
      ]
     },
     "execution_count": 62,
     "metadata": {},
     "output_type": "execute_result"
    }
   ],
   "source": [
    "pop_vline = (alt.Chart(pop)\n",
    "             .mark_rule(color='yellow')\n",
    "             .encode(alt.X('mean(heights):Q', \n",
    "                           title='Heights')))\n",
    "\n",
    "plot = (alt.Chart(pop)\n",
    "        .transform_density(\n",
    "            'heights',\n",
    "            as_=['Heights', 'density'])\n",
    "        .mark_area()\n",
    "        .encode(\n",
    "            alt.X('Heights:Q'),\n",
    "            alt.Y('density:Q'))\n",
    "        .properties(title='Distribution of Height in the Population'))\n",
    "\n",
    "plot + pop_vline"
   ]
  },
  {
   "cell_type": "markdown",
   "metadata": {},
   "source": [
    "Okay looks good. Here's what our population looks like. The yellow line falls at the mean height in the population which you'll notice occurs exactly at height = 1.6. That's exactly what we defined in the code. "
   ]
  },
  {
   "cell_type": "code",
   "execution_count": null,
   "metadata": {},
   "outputs": [],
   "source": []
  }
 ],
 "metadata": {
  "_draft": {
   "nbviewer_url": "https://gist.github.com/ae54baf83816bc6afe725ea5d2cb81ab"
  },
  "gist": {
   "data": {
    "description": "_data/gist_notebooks/what_is_CLT_gist1.ipynb",
    "public": true
   },
   "id": "ae54baf83816bc6afe725ea5d2cb81ab"
  },
  "kernelspec": {
   "display_name": "Python 3",
   "language": "python",
   "name": "python3"
  },
  "language_info": {
   "codemirror_mode": {
    "name": "ipython",
    "version": 3
   },
   "file_extension": ".py",
   "mimetype": "text/x-python",
   "name": "python",
   "nbconvert_exporter": "python",
   "pygments_lexer": "ipython3",
   "version": "3.8.6"
  }
 },
 "nbformat": 4,
 "nbformat_minor": 4
}
